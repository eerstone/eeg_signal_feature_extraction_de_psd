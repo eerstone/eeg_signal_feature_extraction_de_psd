{
 "cells": [
  {
   "cell_type": "code",
   "execution_count": null,
   "metadata": {},
   "outputs": [
    {
     "name": "stdout",
     "output_type": "stream",
     "text": [
      "(5, 1, 10) (5, 1, 10)\n"
     ]
    }
   ],
   "source": [
    "import numpy as np\n",
    "\n",
    "\n",
    "def compute_psd_de(data, window, fs, f_bands=None):\n",
    "    \"\"\"\n",
    "    compute  DE (differential entropy) and PSD (power spectral density) features\n",
    "\n",
    "    input: \n",
    "\tdata-[n, m] n channels, m points of each time course,  \n",
    "\twindow-integer, window lens of each segment in seconds, such as 1s\n",
    "\tfs-integer, frequency of singal sampling rate, such as 200Hz\n",
    "\toptional  f_bands, default delta, theta, aplha, beta, gamma\n",
    "\n",
    "    output:\n",
    "        psd,de  [bands, channels, samples]\n",
    "    \"\"\"\n",
    "    # segment the data\n",
    "    channels, lens = np.shape(data)\n",
    "    segment_lens = window * fs\n",
    "    samples = lens // segment_lens\n",
    "    data = data[:, :samples*segment_lens]\n",
    "    data = data.reshape(channels, samples, -1)  \n",
    "\n",
    "    if f_bands == None:\n",
    "        f_bands = [(1,4), (4,7), (8,13), (14,29), (30, 47)] # delta, theta, aplha, beta, gamma\n",
    "    \n",
    "    # compute the magnitudes \n",
    "    fxx = np.fft.fft(data)\n",
    "    timestep = 1 / fs\n",
    "    f = np.fft.fftfreq(segment_lens, timestep)[:segment_lens//2]  # only use the positive frequency\n",
    "    fxx = np.abs(fxx[:,:,:segment_lens//2])\n",
    "\n",
    "    psd_bands = []\n",
    "    de_bands = []\n",
    "    for f_band1, f_band2 in f_bands:\n",
    "        f_mask = (f >= f_band1) & (f <= f_band2)\n",
    "        data_bands = fxx[:, :, f_mask]\n",
    "\n",
    "        # psd = np.sum(data_bands**2 / (segment_lens//2), axis=-1)  # same with scipy.signal.periodogram * fs, divide the number of total frequency bands like 100\n",
    "        psd = np.mean(data_bands**2, axis=-1)  # only divide the number of frequency band1-band2 like 1-4, maybe 4 points with window==1s or 7 points with window==2s\n",
    "        de = np.log2(2*np.pi*np.exp(1)*data_bands.var(axis=-1)) / 2\n",
    "        \n",
    "        psd_bands.append(psd)\n",
    "        de_bands.append(de)\n",
    "    psd = np.stack(psd_bands)\n",
    "    de = np.stack(de_bands)\n",
    "    return psd, de\n",
    "\n",
    "# make examples and test\n",
    "data = np.random.rand(1, 4000)\n",
    "fs = 200\n",
    "window = 2\n",
    "psd, de = compute_psd_de(data, window, fs)\n",
    "print(psd.shape, de.shape)\n",
    "\n",
    "# # test with periodogram \n",
    "# from scipy.signal import periodogram\n",
    "# channels, lens = np.shape(data)\n",
    "# segment_lens = window * fs\n",
    "# samples = lens // segment_lens\n",
    "# data = data[:, :samples*segment_lens]\n",
    "# data = data.reshape(channels, samples, -1) \n",
    "# f, psd_scipy = periodogram(data, fs)\n",
    "# f_mask = (f >= 1) & (f <= 4)\n",
    "# psd_scipy = np.sum(psd_scipy[:, :, f_mask], axis=-1)\n",
    "# print(psd[0], psd_scipy*fs)"
   ]
  }
 ],
 "metadata": {
  "language_info": {
   "name": "python"
  }
 },
 "nbformat": 4,
 "nbformat_minor": 2
}
